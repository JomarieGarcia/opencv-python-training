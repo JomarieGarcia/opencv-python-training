{
 "cells": [
  {
   "cell_type": "code",
   "execution_count": 2,
   "metadata": {},
   "outputs": [],
   "source": [
    "#\n",
    "# Creating Image Capture\n",
    "#\n",
    "\n",
    "import cv2\n",
    "bernie = cv2.imread('../assets/bernie.jpg', cv2.IMREAD_COLOR)"
   ]
  },
  {
   "cell_type": "code",
   "execution_count": 19,
   "metadata": {},
   "outputs": [],
   "source": [
    "#\n",
    "# Displaying an image\n",
    "#\n",
    "\n",
    "def show_image(bernie):\n",
    "    cv2.namedWindow('image', cv2.WINDOW_NORMAL)\n",
    "    cv2.imshow('image', bernie)\n",
    "    cv2.waitKey(0)\n",
    "    cv2.destroyAllWindows()"
   ]
  },
  {
   "cell_type": "code",
   "execution_count": null,
   "metadata": {},
   "outputs": [],
   "source": [
    "show_image(bernie)"
   ]
  },
  {
   "cell_type": "code",
   "execution_count": 20,
   "metadata": {},
   "outputs": [
    {
     "data": {
      "text/plain": [
       "True"
      ]
     },
     "execution_count": 20,
     "metadata": {},
     "output_type": "execute_result"
    }
   ],
   "source": [
    "#\n",
    "# Saving an image\n",
    "#\n",
    "\n",
    "cv2.imwrite('bernie.jpg', bernie)"
   ]
  },
  {
   "cell_type": "code",
   "execution_count": null,
   "metadata": {},
   "outputs": [],
   "source": [
    "#\n",
    "# create VideoCapture\n",
    "#\n",
    "\n",
    "cap = cv2.VideoCapture(0)\n",
    "\n",
    "#\n",
    "#bool if frame read,\n",
    "#frame captured\n",
    "#\n",
    " while True:\n",
    "        _, frame = cap.read()\n",
    "        cv2.imshow('webcam', frame)\n",
    "        if cv2.waitKey(1) == 27:\n",
    "            break\n",
    "cap.release()\n",
    "cap2.destroyAllWIndows()"
   ]
  }
 ],
 "metadata": {
  "kernelspec": {
   "display_name": "Python 3",
   "language": "python",
   "name": "python3"
  },
  "language_info": {
   "codemirror_mode": {
    "name": "ipython",
    "version": 3
   },
   "file_extension": ".py",
   "mimetype": "text/x-python",
   "name": "python",
   "nbconvert_exporter": "python",
   "pygments_lexer": "ipython3",
   "version": "3.6.4"
  }
 },
 "nbformat": 4,
 "nbformat_minor": 2
}
