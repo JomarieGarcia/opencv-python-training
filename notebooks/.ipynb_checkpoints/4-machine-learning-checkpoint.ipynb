{
 "cells": [
  {
   "cell_type": "code",
   "execution_count": 131,
   "metadata": {},
   "outputs": [],
   "source": [
    "import cv2\n",
    "import numpy as np\n",
    "import matplotlib.pyplot as plt\n",
    "from sklearn.decomposition import PCA\n",
    "\n",
    "pca = PCA(n_components = 100)"
   ]
  },
  {
   "cell_type": "code",
   "execution_count": 132,
   "metadata": {},
   "outputs": [],
   "source": [
    "#load the image\n",
    "mnist = cv2.imread('../datasets/digits.png', 0)"
   ]
  },
  {
   "cell_type": "code",
   "execution_count": 133,
   "metadata": {},
   "outputs": [
    {
     "name": "stdout",
     "output_type": "stream",
     "text": [
      "(1000, 2000)\n"
     ]
    }
   ],
   "source": [
    "print(mnist.shape)"
   ]
  },
  {
   "cell_type": "code",
   "execution_count": 134,
   "metadata": {},
   "outputs": [
    {
     "name": "stdout",
     "output_type": "stream",
     "text": [
      "(50, 100, 20, 20)\n"
     ]
    }
   ],
   "source": [
    "#split the images\n",
    "images = [np.hsplit(row, 100) for row in np.vsplit(mnist, 50)]\n",
    "images = np.array(images, dtype = np.float32)\n",
    "print(images.shape)"
   ]
  },
  {
   "cell_type": "code",
   "execution_count": null,
   "metadata": {},
   "outputs": [],
   "source": []
  },
  {
   "cell_type": "code",
   "execution_count": 135,
   "metadata": {},
   "outputs": [],
   "source": [
    "#split into training/test\n",
    "train_features = images[:, :50].reshape(-1, (20 * 20))\n",
    "test_features = images[:, 50:100].reshape(-1, (20 * 20))"
   ]
  },
  {
   "cell_type": "code",
   "execution_count": 136,
   "metadata": {},
   "outputs": [],
   "source": [
    "#mean normalization data\n",
    "#train_features -= np.mean(train_features, axis=0)\n",
    "#test_features -= np.mean(train_features, axis=0)"
   ]
  },
  {
   "cell_type": "code",
   "execution_count": 137,
   "metadata": {},
   "outputs": [],
   "source": [
    "#PCA\n",
    "pca.fit(train_features)\n",
    "train_features = pca.transform(train_features)\n",
    "test_features = pca.transform(test_features)"
   ]
  },
  {
   "cell_type": "code",
   "execution_count": 138,
   "metadata": {},
   "outputs": [],
   "source": [
    "#create labels\n",
    "k = np.arange(10)\n",
    "train_labels = np.repeat(k, 250).reshape(-1,1)\n",
    "test_labels = train_labels.copy()"
   ]
  },
  {
   "cell_type": "code",
   "execution_count": 139,
   "metadata": {},
   "outputs": [
    {
     "data": {
      "text/plain": [
       "True"
      ]
     },
     "execution_count": 139,
     "metadata": {},
     "output_type": "execute_result"
    }
   ],
   "source": [
    "#create KNN  Model\n",
    "knn = cv2.ml.KNearest_create()\n",
    "\n",
    "#train the KNN Model\n",
    "knn.train(train_features, cv2.ml.ROW_SAMPLE, train_labels)"
   ]
  },
  {
   "cell_type": "code",
   "execution_count": 140,
   "metadata": {},
   "outputs": [
    {
     "name": "stdout",
     "output_type": "stream",
     "text": [
      "Accuracay:  92.32 %\n"
     ]
    }
   ],
   "source": [
    "#use k=3\n",
    "ret, result, neighbors, dist = knn.findNearest(test_features, 3)\n",
    "\n",
    "#check if the results are correct\n",
    "matches = np.equal(result, test_labels)\n",
    "\n",
    "#convert bool to int\n",
    "matches = matches.astype(np.int)\n",
    "\n",
    "#count the correct predictions\n",
    "correct = np.count_nonzero(matches)\n",
    "\n",
    "#compute the accuracy\n",
    "accuracy = (correct * 100.00) / result.size\n",
    "\n",
    "print('Accuracay: ', accuracy, '%')"
   ]
  },
  {
   "cell_type": "code",
   "execution_count": 141,
   "metadata": {},
   "outputs": [
    {
     "name": "stdout",
     "output_type": "stream",
     "text": [
      "Accuracay:  70.44444444444444 %\n"
     ]
    },
    {
     "data": {
      "image/png": "[encoded data removed]",
      "text/plain": [
       "<matplotlib.figure.Figure at 0x2a8b9a085f8>"
      ]
     },
     "metadata": {},
     "output_type": "display_data"
    }
   ],
   "source": [
    "#KNN for fashion_MNIST\n",
    "\n",
    "fashion_mnist = cv2.imread('../datasets/fashion.png', 0)\n",
    "\n",
    "images = [np.hsplit(row, 30) for row in np.vsplit(fashion_mnist, 30)]\n",
    "images = np.array(images, dtype = np.float32)\n",
    "\n",
    "train_features = images[:, :15].reshape(-1, (28 * 28))\n",
    "test_features = images[:, 15:30].reshape(-1, (28 * 28))\n",
    "\n",
    "#mean normalization\n",
    "#train_features -= np.mean(train_features, axis=0)\n",
    "#test_features -= np.mean(train_features, axis=0)\n",
    "#PCA\n",
    "pca.fit(train_features)\n",
    "train_features = pca.transform(train_features)\n",
    "test_features = pca.transform(test_features)\n",
    "\n",
    "k = np.arange(10)\n",
    "train_labels = np.repeat(k, 45).reshape(-1,1)\n",
    "test_labels = train_labels.copy()\n",
    "\n",
    "knn = cv2.ml.KNearest_create()\n",
    "\n",
    "knn.train(train_features, cv2.ml.ROW_SAMPLE, train_labels)\n",
    "#use k=3\n",
    "ret, result, neighbors, dist = knn.findNearest(test_features, 3)\n",
    "\n",
    "#check if the results are correct\n",
    "matches = np.equal(result, test_labels)\n",
    "\n",
    "#convert bool to int\n",
    "matches = matches.astype(np.int)\n",
    "\n",
    "#count the correct predictions\n",
    "correct = np.count_nonzero(matches)\n",
    "\n",
    "#compute the accuracy\n",
    "accuracy = (correct * 100.00) / result.size\n",
    "\n",
    "print('Accuracay: ', accuracy, '%')\n",
    "plt.imshow(images[0, 3], cmap=\"gray\")\n",
    "plt.show()"
   ]
  },
  {
   "cell_type": "code",
   "execution_count": 142,
   "metadata": {},
   "outputs": [
    {
     "name": "stdout",
     "output_type": "stream",
     "text": [
      "Accuracay:  89.24 %\n"
     ]
    }
   ],
   "source": [
    "#SVM for MNIST\n",
    "\n",
    "mnist = cv2.imread('../datasets/digits.png', 0)#split the images\n",
    "images = [np.hsplit(row, 100) for row in np.vsplit(mnist, 50)]\n",
    "images = np.array(images, dtype = np.float32)\n",
    "train_features = images[:, :50].reshape(-1, (20 * 20))\n",
    "test_features = images[:, 50:100].reshape(-1, (20 * 20))\n",
    "\n",
    "#mean normalization\n",
    "#train_features -= np.mean(train_features, axis=0)\n",
    "#test_features -= np.mean(train_features, axis=0)\n",
    "#PCA\n",
    "pca.fit(train_features)\n",
    "train_features = pca.transform(train_features)\n",
    "test_features = pca.transform(test_features)\n",
    "\n",
    "k = np.arange(10)\n",
    "train_labels = np.repeat(k, 250).reshape(-1,1)\n",
    "test_labels = train_labels.copy()\n",
    "\n",
    "#create SVM MODEL\n",
    "model = cv2.ml.SVM_create()\n",
    "model.setKernel(cv2.ml.SVM_LINEAR)\n",
    "model.setC(2.67)\n",
    "model.setGamma(5.383)\n",
    "model.setType(cv2.ml.SVM_C_SVC)\n",
    "\n",
    "#Train SVM\n",
    "model.train(train_features, cv2.ml.ROW_SAMPLE, train_labels)\n",
    "\n",
    "#Using the Trained SVM\n",
    "result = model.predict(test_features)\n",
    "\n",
    "#Measure result\n",
    "matches = np.equal(result[1], test_labels)\n",
    "matches = matches.astype(np.int)\n",
    "correct = np.count_nonzero(matches)\n",
    "accuracy = (correct * 100.00) / result[1].size\n",
    "\n",
    "print('Accuracay: ', accuracy, '%')"
   ]
  },
  {
   "cell_type": "code",
   "execution_count": 143,
   "metadata": {},
   "outputs": [
    {
     "name": "stdout",
     "output_type": "stream",
     "text": [
      "Accuracay:  54.44444444444444 %\n"
     ]
    },
    {
     "data": {
      "image/png": "[encoded data removed]",
      "text/plain": [
       "<matplotlib.figure.Figure at 0x2a8b9a682b0>"
      ]
     },
     "metadata": {},
     "output_type": "display_data"
    }
   ],
   "source": [
    "#SVM for fashion_MNIST\n",
    "\n",
    "fashion_mnist = cv2.imread('../datasets/fashion.png', 0)\n",
    "\n",
    "images = [np.hsplit(row, 30) for row in np.vsplit(fashion_mnist, 30)]\n",
    "images = np.array(images, dtype = np.float32)\n",
    "train_features = images[:, :15].reshape(-1, (28 * 28))\n",
    "test_features = images[:, 15:30].reshape(-1, (28 * 28))\n",
    "\n",
    "#mean normalization\n",
    "train_features -= np.mean(train_features, axis=0)\n",
    "test_features -= np.mean(train_features, axis=0)\n",
    "#PCA\n",
    "pca.fit(train_features)\n",
    "train_features = pca.transform(train_features)\n",
    "test_features = pca.transform(test_features)\n",
    "\n",
    "k = np.arange(10)\n",
    "train_labels = np.repeat(k, 45).reshape(-1,1)\n",
    "test_labels = train_labels.copy()\n",
    "\n",
    "#create SVM MODEL\n",
    "model = cv2.ml.SVM_create()\n",
    "model.setKernel(cv2.ml.SVM_LINEAR)\n",
    "model.setC(2.67)\n",
    "model.setGamma(5.383)\n",
    "model.setType(cv2.ml.SVM_C_SVC)\n",
    "\n",
    "#Train SVM\n",
    "model.train(train_features, cv2.ml.ROW_SAMPLE, train_labels)\n",
    "\n",
    "#Using the Trained SVM\n",
    "result = model.predict(test_features)\n",
    "\n",
    "#Measure result\n",
    "matches = np.equal(result[1], test_labels)\n",
    "matches = matches.astype(np.int)\n",
    "correct = np.count_nonzero(matches)\n",
    "accuracy = (correct * 100.00) / result[1].size\n",
    "\n",
    "print('Accuracay: ', accuracy, '%')\n",
    "plt.imshow(images[0, 3], cmap=\"gray\")\n",
    "plt.show()"
   ]
  },
  {
   "cell_type": "code",
   "execution_count": null,
   "metadata": {},
   "outputs": [],
   "source": []
  }
 ],
 "metadata": {
  "kernelspec": {
   "display_name": "Python 3",
   "language": "python",
   "name": "python3"
  },
  "language_info": {
   "codemirror_mode": {
    "name": "ipython",
    "version": 3
   },
   "file_extension": ".py",
   "mimetype": "text/x-python",
   "name": "python",
   "nbconvert_exporter": "python",
   "pygments_lexer": "ipython3",
   "version": "3.6.4"
  }
 },
 "nbformat": 4,
 "nbformat_minor": 2
}
